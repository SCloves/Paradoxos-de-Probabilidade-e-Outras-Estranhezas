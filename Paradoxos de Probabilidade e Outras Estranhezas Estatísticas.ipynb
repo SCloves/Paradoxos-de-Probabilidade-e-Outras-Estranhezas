{
 "cells": [
  {
   "cell_type": "markdown",
   "metadata": {},
   "source": [
    "<img src='img1.jpg'>\n",
    "\n",
    "# Paradoxos de probabilidade e outras estranhezas estatísticas\n",
    "\n",
    "Por **Stephen Woodcock**, Professor Sênior em Matemática, Universidade de Tecnologia de Sydney\n",
    "<img src='cara.jpg'>"
   ]
  },
  {
   "cell_type": "markdown",
   "metadata": {},
   "source": [
    "*A estatística é uma ferramenta útil para entender os padrões do mundo ao nosso redor. Mas nossa intuição muitas vezes nos deixa para baixo quando se trata de interpretar esses padrões. Nesta série, observamos alguns dos erros comuns que as pessoas cometem e como evitá-los quando pensamos em estatísticas, probabilidade e risco.*"
   ]
  },
  {
   "cell_type": "markdown",
   "metadata": {},
   "source": [
    "Não é difícil encontrar alguma manchete dizendo por aí que algum alimento ou comportamento está associado a um aumentado ou diminuição da saúde ou, muitas vezes, ambos. Como podêm estudos cientificos, aparentemente rigorosos, produzirem conclusões opostas?"
   ]
  },
  {
   "cell_type": "markdown",
   "metadata": {},
   "source": [
    "Atualmente, pesquisadores têm acesso a uma grande variedade de pacotes de software que podem facilmente analisar dados e produzir os resultados de testes estatísticos complexos. Embora estes sejam recursos poderosos, eles também abrem a porta para pessoas, que não possuem um entendimento estatístico completo, entenderem mal as sutilezas dentro de um conjunto de dados e tirar conclusões descontroladamente erradas."
   ]
  },
  {
   "cell_type": "markdown",
   "metadata": {},
   "source": [
    "Aqui estão algumas falácias e paradoxos estatísticos comuns e como eles podem levar a resultados que são contraintuitivos e, em muitos casos, simplesmente errados."
   ]
  },
  {
   "cell_type": "markdown",
   "metadata": {},
   "source": [
    "## Paradoxo de Simpson"
   ]
  },
  {
   "cell_type": "markdown",
   "metadata": {},
   "source": [
    "#### O que é?\n",
    "\n",
    "É quando algumas tendências, que surgem dentro de diferentes grupos, acabam desaparecendo quando os dados desses mesmos grupos são combinados. Quando isso acontece, a tendência geral pode até parecer ser o oposto das tendências dentro de cada grupo.\n",
    "\n",
    "Um exemplo desse paradoxo é que quando um tratamento médico se mostrou prejudicial em todos os grupos de pacientes mas, pode parecer benéfico quando os dados desses grupos são combinados."
   ]
  },
  {
   "cell_type": "markdown",
   "metadata": {},
   "source": [
    "#### Como isso acontece?\n",
    "\n",
    "Isso pode acontecer quando os tamanhos dos grupos são desiguais. Um teste com seleção descuidada (ou sem escrúpulos) do número de pacientes poderia levar alguém a concluir que um tratamento prejudicial parece ser benéfico."
   ]
  },
  {
   "cell_type": "markdown",
   "metadata": {},
   "source": [
    "#### Exemplo\n",
    "\n",
    "Considere o seguinte estudo duplo-cego de um tratamento médico proposto. Um grupo de 120 pacientes (dividido em subgrupos de tamanhos 10, 20, 30 e 60) recebe o tratamento e outros 120 pacientes (divididos em subgrupos de tamanhos correspondentes 60, 30, 20 e 10) não recebem o tratamento.\n",
    "\n",
    "Os resultados globais mostram que o tratamento foi benéfico para os pacientes, com maior taxa de recuperação para pacientes com tratamento do que aqueles que não o receberam.\n",
    "\n",
    "<img src='img2.png'>\n",
    "\n",
    "No entanto, quando você olha os resultados dentro de cada grupo que compuseram o estudo, você observa que em todos eles, a taxa de recuperação foi 50% maior para os pacientes que não tiveram tratamento.\n",
    "\n",
    "<img src='img3.png'>"
   ]
  },
  {
   "cell_type": "markdown",
   "metadata": {},
   "source": [
    "Mas note que o tamanho e a distribuição da idade das pessoas em cada grupo são diferentes entre aqueles que receberam o tratamento e os que não. E é isso que distorce os números. Neste caso, o grupo dos que receberam tratamento tém muito mais crianças, cujas taxas de recuperação, independentemente se receberem ou não um determinado tratamento, são geralmente mais altas."
   ]
  },
  {
   "cell_type": "code",
   "execution_count": null,
   "metadata": {
    "collapsed": true
   },
   "outputs": [],
   "source": []
  }
 ],
 "metadata": {
  "anaconda-cloud": {},
  "kernelspec": {
   "display_name": "Python [conda root]",
   "language": "python",
   "name": "conda-root-py"
  },
  "language_info": {
   "codemirror_mode": {
    "name": "ipython",
    "version": 2
   },
   "file_extension": ".py",
   "mimetype": "text/x-python",
   "name": "python",
   "nbconvert_exporter": "python",
   "pygments_lexer": "ipython2",
   "version": "2.7.12"
  }
 },
 "nbformat": 4,
 "nbformat_minor": 2
}
